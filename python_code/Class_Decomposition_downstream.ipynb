{
 "cells": [
  {
   "cell_type": "code",
   "execution_count": 2,
   "id": "bd3c73b7",
   "metadata": {},
   "outputs": [],
   "source": [
    "import os\n",
    "import numpy as np\n",
    "import pandas as pd\n",
    "from sklearn.model_selection import  train_test_split\n",
    "import matplotlib.pyplot as plt\n",
    "import pathlib\n",
    "import glob as gb\n",
    "import cv2\n",
    "from PIL import Image as Image\n",
    "from collections import Counter\n",
    "from tensorflow.keras.preprocessing import image_dataset_from_directory\n",
    "from sklearn.utils import shuffle\n",
    "from tensorflow.keras.utils import to_categorical\n",
    "from tensorflow.keras.models import Model, Sequential\n",
    "from tensorflow.keras.layers import Input, Add, Dense, Activation, Flatten, Conv2D,MaxPooling2D, Dropout\n",
    "from tensorflow.keras.optimizers import SGD, Adam\n",
    "from keras.callbacks import EarlyStopping, ReduceLROnPlateau, ModelCheckpoint, LearningRateScheduler"
   ]
  },
  {
   "cell_type": "code",
   "execution_count": 2,
   "id": "84a49d0f",
   "metadata": {},
   "outputs": [
    {
     "name": "stderr",
     "output_type": "stream",
     "text": [
      "Copying files: 2992 files [00:04, 736.60 files/s] \n"
     ]
    }
   ],
   "source": [
    "import splitfolders\n",
    "input_folder =  'E:/    /colon/Org_dataset/'\n",
    "output= 'E:/    /   /colon/imgTraining/'\n",
    "\n",
    "# Split with a ratio.\n",
    "# split the dataset into two folders training and test set, set a tuple to `ratio`, i.e, `(.8, .2)`. \n",
    "# And the decomposition process will be applied to the training set.\n",
    "\n",
    "#Train, test\n",
    "splitfolders.ratio(input_folder, output=output, \n",
    "                   seed=42, ratio=(.8, .2), \n",
    "                   group_prefix=None) # default values"
   ]
  },
  {
   "cell_type": "code",
   "execution_count": 3,
   "id": "ed221b76",
   "metadata": {},
   "outputs": [
    {
     "name": "stdout",
     "output_type": "stream",
     "text": [
      "training_classes =  {'ADI': 0, 'STR': 1, 'TUM': 2}\n"
     ]
    }
   ],
   "source": [
    "#get the data path\n",
    "trainpath= ('E:/   /colon/imgTraining/train/')\n",
    "\n",
    "# get the training classes\n",
    "keys=os.listdir(trainpath)\n",
    "values=range(len(keys))\n",
    "\n",
    "training_classes = dict (zip(keys,values))\n",
    "print('training_classes = ',training_classes)"
   ]
  },
  {
   "cell_type": "code",
   "execution_count": 4,
   "id": "30c5e4a0",
   "metadata": {},
   "outputs": [
    {
     "name": "stdout",
     "output_type": "stream",
     "text": [
      "--------------------------------------------------\n",
      "  Folder_name  Traning Image Numbers\n",
      "0         ADI                   1070\n",
      "1         STR                    336\n",
      "2         TUM                    986\n",
      "--------------------------------------------------\n",
      "items in X_train is:        2392  items\n",
      "items in y_train is:        2392  items\n"
     ]
    }
   ],
   "source": [
    "#Loading and resizing training data\n",
    "new_size=227    \n",
    "X_train = []\n",
    "y_train = []\n",
    "train_label=[]\n",
    "folder_item_numbers = []\n",
    "\n",
    "for folder in  os.listdir(trainpath ) : \n",
    "    train_label.append(folder)\n",
    "    files = gb.glob(pathname= str( trainpath  + folder + '/*.tif'))\n",
    "    folder_item_numbers.append(len(files))\n",
    "    for file in files: \n",
    "        orignal_image = cv2.imread(file)\n",
    "        image = cv2.cvtColor(orignal_image, cv2.COLOR_BGR2RGB)\n",
    "        resized_image = cv2.resize(image , (new_size,new_size))\n",
    "        X_train.append(resized_image)\n",
    "        y_train.append(training_classes[folder])\n",
    "\n",
    "print('--------------------------------------------------')        \n",
    "foldernames=pd.DataFrame({'Folder_name':train_label})\n",
    "itemnumbers=pd.DataFrame({'Traning Image Numbers':folder_item_numbers})\n",
    "informations=pd.concat([foldernames,itemnumbers],axis=1)\n",
    "print(informations)\n",
    "print('--------------------------------------------------')        \n",
    "#check items in X_test\n",
    "print(\"items in X_train is:       \",len(X_train) , \" items\") \n",
    "print(\"items in y_train is:       \",len(y_train) , \" items\") "
   ]
  },
  {
   "cell_type": "code",
   "execution_count": 5,
   "id": "d5985454",
   "metadata": {},
   "outputs": [
    {
     "name": "stdout",
     "output_type": "stream",
     "text": [
      "Training Samples =:        1913   and the number of labels is      1913\n",
      "Validation Samples =:        479   and the number of labels is      479\n"
     ]
    }
   ],
   "source": [
    "#shuffle data\n",
    "X_train,y_train = shuffle(X_train, y_train)\n",
    "# Split the training datdset into two groups\n",
    "x_train, x_valid, y_train, y_valid = train_test_split(X_train, y_train, train_size= 0.8)\n",
    "print('Training Samples =:       ',len(x_train) ,'  and the number of labels is     ', len(y_train))\n",
    "print('Validation Samples =:       ',len(x_valid) ,'  and the number of labels is     ', len(y_valid))"
   ]
  },
  {
   "cell_type": "code",
   "execution_count": null,
   "id": "ad46a81a",
   "metadata": {},
   "outputs": [],
   "source": [
    "#shuffle data\n",
    "x_train,y_train = shuffle(x_train, y_train)\n",
    "x_valid,y_valid = shuffle(x_valid, y_valid)\n",
    "\n",
    "#converting all TRAIN data to array\n",
    "x_train = np.array(x_train) \n",
    "y_train = np.array(y_train)\n",
    "\n",
    "x_valid = np.array(x_valid)\n",
    "y_valid = np.array(y_valid)\n",
    "\n",
    "y_train = to_categorical(y_train,len(train_label))\n",
    "y_valid = to_categorical(y_valid,len(train_label))\n",
    "\n",
    "print(\"x_train shape  :\" ,x_train.shape)\n",
    "print(\"y_train shape :\", y_train.shape)\n",
    "print('-----------------------------------------')\n",
    "print(\"x_valid shape  :\" ,x_valid.shape)\n",
    "print(\"y_valid shape :\", y_valid.shape)\n"
   ]
  },
  {
   "cell_type": "code",
   "execution_count": null,
   "id": "bf119e1c",
   "metadata": {},
   "outputs": [],
   "source": [
    "#normalizing data\n",
    "x_train=x_train/255.0\n",
    "x_valid =x_valid/255.0"
   ]
  },
  {
   "cell_type": "code",
   "execution_count": 13,
   "id": "98deb9dd",
   "metadata": {},
   "outputs": [],
   "source": [
    "def get_alexnet(input_shape, num_classes):\n",
    "\n",
    "    model = Sequential()\n",
    "\n",
    "    # 1st Convolutional Layer: (227-11+2*0)/4 + 1 = 55\n",
    "    model.add(Conv2D(kernel_size=(11,11), strides=(4,4), padding=\"valid\", filters=96, activation='relu', \n",
    "                     input_shape=input_shape))\n",
    "    # Max Pooling: (55-3+2*0)/2 + 1 = 27\n",
    "    model.add(MaxPooling2D(pool_size=(3,3), strides=(2,2), padding='valid'))\n",
    "\n",
    "    # 2nd Convolutional Layer: (27-5+2*2)/1 + 1 = 27\n",
    "    model.add(Conv2D(kernel_size=(5,5), strides=(1,1), padding=\"same\", filters=256, activation='relu'))\n",
    "    # Max Pooling: (27-3+2*0)/2 +1 = 13\n",
    "    model.add(MaxPooling2D(pool_size=(3,3), strides=(2,2), padding='valid'))\n",
    "\n",
    "    # 3rd Convolutional Layer: (13-3+2*1)/1 + 1 = 13\n",
    "    model.add(Conv2D(kernel_size=(3,3), strides=(1,1), padding=\"same\", filters=384, activation='relu'))\n",
    "\n",
    "    # 4th Convolutional Layer: (13-3+2*1) + 1 = 13\n",
    "    model.add(Conv2D(kernel_size=(3,3), strides=(1,1), padding=\"same\", filters=384, activation='relu'))\n",
    "\n",
    "    # 5th Convolutional Layer: (13-3+2*1) + 1 = 13\n",
    "    model.add(Conv2D(kernel_size=(3,3), strides=(1,1), padding=\"same\", filters=256, activation='relu'))\n",
    "    # Max Pooling: (13-3+2*0)/2 + 1 =  6\n",
    "    model.add(MaxPooling2D(pool_size=(3,3), strides=(2,2), padding='valid'))\n",
    "\n",
    "    # Flatten 256x6x6=9216 as one dimention vector and pass it to the 6th FC layer\n",
    "    model.add(Flatten())\n",
    "\n",
    "    # 6th layer: fully connected layer with 4096 neurons with 50% dropout.\n",
    "    model.add(Dense(units=4096, activation='relu'))\n",
    "    # Add Dropout\n",
    "    model.add(Dropout(0.5))\n",
    "\n",
    "    # 7th layer: fully connected layer with 4096 neurons with 50% dropout.\n",
    "    model.add(Dense(units=4096, activation='relu'))\n",
    "    # Add Dropout \n",
    "    model.add(Dropout(0.5))\n",
    "\n",
    "    # 8th Layer: a fully connected layer with 1000 neurons\n",
    "    model.add(Dense(units=1000, activation='relu'))\n",
    "    # classification output with softmax layer\n",
    "    model.add(Dense(units=num_classes, activation='softmax'))\n",
    "     \n",
    "    return model"
   ]
  },
  {
   "cell_type": "code",
   "execution_count": 11,
   "id": "5f7a5340",
   "metadata": {},
   "outputs": [
    {
     "name": "stdout",
     "output_type": "stream",
     "text": [
      "Model: \"sequential_2\"\n",
      "_________________________________________________________________\n",
      " Layer (type)                Output Shape              Param #   \n",
      "=================================================================\n",
      " conv2d_10 (Conv2D)          (None, 55, 55, 96)        34944     \n",
      "                                                                 \n",
      " max_pooling2d_6 (MaxPooling  (None, 27, 27, 96)       0         \n",
      " 2D)                                                             \n",
      "                                                                 \n",
      " conv2d_11 (Conv2D)          (None, 27, 27, 256)       614656    \n",
      "                                                                 \n",
      " max_pooling2d_7 (MaxPooling  (None, 13, 13, 256)      0         \n",
      " 2D)                                                             \n",
      "                                                                 \n",
      " conv2d_12 (Conv2D)          (None, 13, 13, 384)       885120    \n",
      "                                                                 \n",
      " conv2d_13 (Conv2D)          (None, 13, 13, 384)       1327488   \n",
      "                                                                 \n",
      " conv2d_14 (Conv2D)          (None, 13, 13, 256)       884992    \n",
      "                                                                 \n",
      " max_pooling2d_8 (MaxPooling  (None, 6, 6, 256)        0         \n",
      " 2D)                                                             \n",
      "                                                                 \n",
      " flatten_2 (Flatten)         (None, 9216)              0         \n",
      "                                                                 \n",
      " dense_8 (Dense)             (None, 4096)              37752832  \n",
      "                                                                 \n",
      " dropout_4 (Dropout)         (None, 4096)              0         \n",
      "                                                                 \n",
      " dense_9 (Dense)             (None, 4096)              16781312  \n",
      "                                                                 \n",
      " dropout_5 (Dropout)         (None, 4096)              0         \n",
      "                                                                 \n",
      " dense_10 (Dense)            (None, 1000)              4097000   \n",
      "                                                                 \n",
      " dense_11 (Dense)            (None, 3)                 3003      \n",
      "                                                                 \n",
      "=================================================================\n",
      "Total params: 62,381,347\n",
      "Trainable params: 62,381,347\n",
      "Non-trainable params: 0\n",
      "_________________________________________________________________\n"
     ]
    }
   ],
   "source": [
    "# Provide the constants for the function. \n",
    "IMAGE_WIDTH = 227\n",
    "IMAGE_HEIGHT = 227\n",
    "CHANNELS = 3\n",
    "NUM_CLASSES = 3\n",
    "\n",
    "# Assign the values\n",
    "INPUT_SHAPE = (IMAGE_WIDTH, IMAGE_HEIGHT, CHANNELS)\n",
    "\n",
    "# Call the AlexNet model \n",
    "#model = AlexNet(INPUT_SHAPE, NUM_CLASSES)\n",
    "alexnet = get_alexnet(INPUT_SHAPE, NUM_CLASSES)\n",
    "\n",
    "# Show the AlexNet Model \n",
    "alexnet.summary()"
   ]
  },
  {
   "cell_type": "code",
   "execution_count": 12,
   "id": "15ea6139",
   "metadata": {},
   "outputs": [
    {
     "name": "stdout",
     "output_type": "stream",
     "text": [
      "Model: \"sequential_2\"\n",
      "_________________________________________________________________\n",
      " Layer (type)                Output Shape              Param #   \n",
      "=================================================================\n",
      " conv2d_10 (Conv2D)          (None, 55, 55, 96)        34944     \n",
      "                                                                 \n",
      " max_pooling2d_6 (MaxPooling  (None, 27, 27, 96)       0         \n",
      " 2D)                                                             \n",
      "                                                                 \n",
      " conv2d_11 (Conv2D)          (None, 27, 27, 256)       614656    \n",
      "                                                                 \n",
      " max_pooling2d_7 (MaxPooling  (None, 13, 13, 256)      0         \n",
      " 2D)                                                             \n",
      "                                                                 \n",
      " conv2d_12 (Conv2D)          (None, 13, 13, 384)       885120    \n",
      "                                                                 \n",
      " conv2d_13 (Conv2D)          (None, 13, 13, 384)       1327488   \n",
      "                                                                 \n",
      " conv2d_14 (Conv2D)          (None, 13, 13, 256)       884992    \n",
      "                                                                 \n",
      " max_pooling2d_8 (MaxPooling  (None, 6, 6, 256)        0         \n",
      " 2D)                                                             \n",
      "                                                                 \n",
      " flatten_2 (Flatten)         (None, 9216)              0         \n",
      "                                                                 \n",
      " dense_8 (Dense)             (None, 4096)              37752832  \n",
      "                                                                 \n",
      " dropout_4 (Dropout)         (None, 4096)              0         \n",
      "                                                                 \n",
      " dense_9 (Dense)             (None, 4096)              16781312  \n",
      "                                                                 \n",
      " dropout_5 (Dropout)         (None, 4096)              0         \n",
      "                                                                 \n",
      " dense_10 (Dense)            (None, 1000)              4097000   \n",
      "                                                                 \n",
      " dense_11 (Dense)            (None, 3)                 3003      \n",
      "                                                                 \n",
      "=================================================================\n",
      "Total params: 62,381,347\n",
      "Trainable params: 62,381,347\n",
      "Non-trainable params: 0\n",
      "_________________________________________________________________\n"
     ]
    }
   ],
   "source": [
    "alexnet.load_weights('alexnet_weights.h5', by_name=True)\n",
    "alexnet.summary()"
   ]
  },
  {
   "cell_type": "code",
   "execution_count": 8,
   "id": "3b5622b7",
   "metadata": {},
   "outputs": [
    {
     "name": "stdout",
     "output_type": "stream",
     "text": [
      "Model: \"sequential_1\"\n",
      "_________________________________________________________________\n",
      " Layer (type)                Output Shape              Param #   \n",
      "=================================================================\n",
      " conv2d_5 (Conv2D)           (None, 55, 55, 96)        34944     \n",
      "                                                                 \n",
      " max_pooling2d_3 (MaxPooling  (None, 27, 27, 96)       0         \n",
      " 2D)                                                             \n",
      "                                                                 \n",
      " conv2d_6 (Conv2D)           (None, 27, 27, 256)       614656    \n",
      "                                                                 \n",
      " max_pooling2d_4 (MaxPooling  (None, 13, 13, 256)      0         \n",
      " 2D)                                                             \n",
      "                                                                 \n",
      " conv2d_7 (Conv2D)           (None, 13, 13, 384)       885120    \n",
      "                                                                 \n",
      " conv2d_8 (Conv2D)           (None, 13, 13, 384)       1327488   \n",
      "                                                                 \n",
      " conv2d_9 (Conv2D)           (None, 13, 13, 256)       884992    \n",
      "                                                                 \n",
      " max_pooling2d_5 (MaxPooling  (None, 6, 6, 256)        0         \n",
      " 2D)                                                             \n",
      "                                                                 \n",
      " flatten_1 (Flatten)         (None, 9216)              0         \n",
      "                                                                 \n",
      " dense_4 (Dense)             (None, 4096)              37752832  \n",
      "                                                                 \n",
      " dropout_2 (Dropout)         (None, 4096)              0         \n",
      "                                                                 \n",
      " dense_5 (Dense)             (None, 4096)              16781312  \n",
      "                                                                 \n",
      " dropout_3 (Dropout)         (None, 4096)              0         \n",
      "                                                                 \n",
      " dense_6 (Dense)             (None, 1000)              4097000   \n",
      "                                                                 \n",
      " dense_7 (Dense)             (None, 3)                 3003      \n",
      "                                                                 \n",
      "=================================================================\n",
      "Total params: 62,381,347\n",
      "Trainable params: 0\n",
      "Non-trainable params: 62,381,347\n",
      "_________________________________________________________________\n"
     ]
    }
   ],
   "source": [
    "for layer in alexnet.layers:\n",
    "    layer.trainable = False\n",
    "alexnet.summary()"
   ]
  },
  {
   "cell_type": "code",
   "execution_count": 9,
   "id": "816f9177",
   "metadata": {
    "scrolled": true
   },
   "outputs": [
    {
     "name": "stdout",
     "output_type": "stream",
     "text": [
      "0 conv2d_5\n",
      "1 max_pooling2d_3\n",
      "2 conv2d_6\n",
      "3 max_pooling2d_4\n",
      "4 conv2d_7\n",
      "5 conv2d_8\n",
      "6 conv2d_9\n",
      "7 max_pooling2d_5\n",
      "8 flatten_1\n",
      "9 dense_4\n",
      "10 dropout_2\n",
      "11 dense_5\n",
      "12 dropout_3\n",
      "13 dense_6\n",
      "14 dense_7\n"
     ]
    }
   ],
   "source": [
    "for i, layer in enumerate(alexnet.layers):\n",
    "    print(i, layer.name)"
   ]
  },
  {
   "cell_type": "code",
   "execution_count": null,
   "id": "057b90a8",
   "metadata": {},
   "outputs": [],
   "source": [
    "file_dir='E:/   /   /save_result'\n",
    "filepath = os.path.join(file_dir,'decomposed_model.hdf5')\n",
    "    \n",
    "checkpoint = ModelCheckpoint(filepath=filepath, monitor='val_accuracy', save_best_only=True, verbose=1)\n",
    "model_callbacks = [checkpoint]\n",
    "\n"
   ]
  },
  {
   "cell_type": "code",
   "execution_count": null,
   "id": "9b03ef60",
   "metadata": {
    "scrolled": true
   },
   "outputs": [],
   "source": [
    "for layer in alexnet.layers[13:]:\n",
    "        layer.trainable = True\n",
    "\n",
    "epochs=100\n",
    "batch_size=50\n",
    "#sgd = SGD(lr=0.0001, decay=1e-6, momentum=0.9, nesterov=True)\n",
    "alexnet.compile(loss='mse',\n",
    "              optimizer=Adam(learning_rate=0.0001),\n",
    "              metrics=['accuracy'])\n",
    "\n",
    "history = alexnet.fit(x_train,y_train, validation_data= (x_valid,y_valid), epochs=epochs, batch_size=batch_size, callbacks=model_callbacks, verbose=1)"
   ]
  },
  {
   "cell_type": "code",
   "execution_count": null,
   "id": "0f48f7e6",
   "metadata": {},
   "outputs": [],
   "source": [
    "#showing results and model accuracy \n",
    "acc = history.history['accuracy']\n",
    "val_acc = history.history['val_accuracy']\n",
    "\n",
    "loss = history.history['loss']\n",
    "val_loss = history.history['val_loss']\n",
    "\n",
    "epochs_range = range(epochs)\n",
    "\n",
    "plt.figure(figsize=(12, 6))\n",
    "plt.subplot(1, 2, 1)\n",
    "plt.grid()\n",
    "plt.plot(epochs_range, acc, label='Training Accuracy')\n",
    "plt.plot(epochs_range, val_acc, label='Validation Accuracy')\n",
    "plt.legend(loc='lower right')\n",
    "plt.title('Training and Validation Accuracy')\n",
    "\n",
    "plt.subplot(1, 2, 2)\n",
    "plt.grid()\n",
    "plt.plot(epochs_range, loss, label='Training Loss')\n",
    "plt.plot(epochs_range, val_loss, label='Validation Loss')\n",
    "plt.legend(loc='upper right')\n",
    "plt.title('Training and Validation Loss')\n",
    "plt.show()"
   ]
  },
  {
   "cell_type": "code",
   "execution_count": null,
   "id": "1f167f45",
   "metadata": {},
   "outputs": [],
   "source": [
    "alexnet.evaluate(x_valid,y_valid)"
   ]
  },
  {
   "cell_type": "markdown",
   "id": "6cb89393",
   "metadata": {},
   "source": [
    "## get features activation"
   ]
  },
  {
   "cell_type": "code",
   "execution_count": 6,
   "id": "7ffb1718",
   "metadata": {},
   "outputs": [
    {
     "name": "stdout",
     "output_type": "stream",
     "text": [
      "extract features from class:   ADI\n",
      "extract features from class:   STR\n",
      "extract features from class:   TUM\n"
     ]
    }
   ],
   "source": [
    "from tensorflow.keras.models import load_model\n",
    "\n",
    "model=load_model('E:/    /     /colon/decomposed_model.hdf5')  \n",
    "alexnet_extract_features = Model(inputs=model.input, outputs=model.get_layer('dense_6').output)  \n",
    "\n",
    "\n",
    "def get_feature_vector(img):\n",
    "    image = cv2.resize(img, (227, 227))\n",
    "    image=image.reshape(1, 227, 227, 3) #convert it to batch\n",
    "    feature_vector = alexnet_extract_features.predict(image)\n",
    "    return feature_vector\n",
    "\n",
    "\n",
    "Dataset_path=('E:/     /   /colon/imgTraining/train/')\n",
    "for folder in  os.listdir(Dataset_path ) : \n",
    "    print('extract features from class:  ',folder)\n",
    "    feature=[]\n",
    "    files = gb.glob(pathname= str( Dataset_path  + folder + '/*.tif'))\n",
    "    for file in files: \n",
    "        image = cv2.imread(file)\n",
    "        output=get_feature_vector(image)\n",
    "        output=output[0]\n",
    "        output=output.astype('float32')\n",
    "        feature.append(output)\n",
    "        \n",
    "    feature=np.array(feature)\n",
    "    feature.shape\n",
    "    np.save(folder+'.npy', feature)"
   ]
  },
  {
   "cell_type": "markdown",
   "id": "a55f316e",
   "metadata": {},
   "source": [
    "### Pca"
   ]
  },
  {
   "cell_type": "code",
   "execution_count": 29,
   "id": "9729871a",
   "metadata": {},
   "outputs": [],
   "source": [
    "f_matrix= np.load('TUM.npy')"
   ]
  },
  {
   "cell_type": "code",
   "execution_count": 30,
   "id": "a93e63eb",
   "metadata": {},
   "outputs": [
    {
     "data": {
      "text/plain": [
       "(1070, 1000)"
      ]
     },
     "execution_count": 30,
     "metadata": {},
     "output_type": "execute_result"
    }
   ],
   "source": [
    "from sklearn.preprocessing import StandardScaler \n",
    "\n",
    "sc = StandardScaler() \n",
    "\n",
    "# Use fit and transform method \n",
    "std_features = sc.fit_transform(f_matrix) \n",
    " \n",
    "# apply PCA technique. \n",
    "from sklearn.decomposition import PCA \n",
    "#Choosing the number of components\n",
    "#pca = PCA(n_components = 45) \n",
    "pca = PCA() \n",
    "pca_features = pca.fit_transform(f_matrix) \n",
    "explained_variance = pca.explained_variance_ratio_ \n",
    "pca_features.shape"
   ]
  },
  {
   "cell_type": "code",
   "execution_count": null,
   "id": "2afc1dda",
   "metadata": {},
   "outputs": [],
   "source": [
    "# check the cumulative explained variance ratio to select the n_components\n",
    "explained_variance"
   ]
  },
  {
   "cell_type": "markdown",
   "id": "41bdebbe",
   "metadata": {},
   "source": [
    "## K-means cluster"
   ]
  },
  {
   "cell_type": "code",
   "execution_count": null,
   "id": "e4e0f3a9",
   "metadata": {},
   "outputs": [],
   "source": [
    "X=pca_features\n",
    "\n",
    "from sklearn.cluster import KMeans\n",
    "kmeans = KMeans(n_clusters=2, random_state=0).fit(X)"
   ]
  },
  {
   "cell_type": "code",
   "execution_count": null,
   "id": "cb070e7e",
   "metadata": {},
   "outputs": [],
   "source": [
    "labels=kmeans.labels_\n",
    "from collections import Counter\n",
    "Counter(kmeans.labels_)"
   ]
  },
  {
   "cell_type": "code",
   "execution_count": null,
   "id": "2a664bde",
   "metadata": {},
   "outputs": [],
   "source": [
    "# assign each image to the corresponding categories\n",
    "import shutil\n",
    "import glob\n",
    "\n",
    "save_path = 'E:/  /  /colon/downstream_dataset/'\n",
    "src_dir= ('E:/  /   /colon/imgTraining/train/TUM')\n",
    "\n",
    "name=os.path.basename(os.path.normpath(src_dir))\n",
    "\n",
    "list=[]\n",
    "for i in np.unique(labels):\n",
    "    if i not in list:\n",
    "        c= name+'_'+str(i)\n",
    "        list.append(c)\n",
    "\n",
    "#creating subfolders\n",
    "for items in list:\n",
    "    path = os.path.join(save_path, items)\n",
    "    os.mkdir(path)\n",
    "\n",
    "print('list= ', list)\n",
    "\n",
    "for img, j in zip(glob.iglob(os.path.join(src_dir, \"*.tif\")), labels):\n",
    "    shutil.copy(img, save_path+list[j-1])"
   ]
  },
  {
   "cell_type": "markdown",
   "id": "d01cb7f2",
   "metadata": {},
   "source": [
    "## AP cluster algorithm"
   ]
  },
  {
   "cell_type": "code",
   "execution_count": 28,
   "id": "071ea9b7",
   "metadata": {},
   "outputs": [
    {
     "data": {
      "image/png": "[encoded data removed]",
      "text/plain": [
       "<Figure size 432x288 with 1 Axes>"
      ]
     },
     "metadata": {
      "needs_background": "light"
     },
     "output_type": "display_data"
    }
   ],
   "source": [
    "from sklearn.cluster import AffinityPropagation\n",
    "from itertools import cycle\n",
    "import sklearn.metrics as metrics\n",
    "from sklearn.datasets import make_blobs\n",
    "import numpy as np\n",
    "from sklearn.metrics.pairwise import cosine_distances\n",
    "\n",
    "# Compute similarities\n",
    "X=pca_features\n",
    "\n",
    "# Compute affinity propagation cosine similarity python\n",
    "dist_cosine = cosine_distances(X) # compute cosine distance matrix \n",
    "affprop = AffinityPropagation(random_state=5, affinity = 'precomputed', damping = 0.9, max_iter=5000, convergence_iter=15, preference=-50)\n",
    "af = affprop.fit(dist_cosine)\n",
    "\n",
    "cluster_centers_indices = af.cluster_centers_indices_\n",
    "labels = af.labels_\n",
    "\n",
    "n_clusters_ = len(cluster_centers_indices)\n",
    "\n",
    "\n",
    "# Plot result\n",
    "import pylab as pl\n",
    "from itertools import cycle\n",
    "\n",
    "\n",
    "colors = cycle('bgrcmykbgrcmykbgrcmykbgrcmyk')\n",
    "for k, col in zip(range(n_clusters_), colors):\n",
    "    class_members = labels == k\n",
    "    cluster_center = X[cluster_centers_indices[k]]\n",
    "    pl.plot(X[class_members, 0], X[class_members, 1], col + '.')\n",
    "    pl.plot(cluster_center[0], cluster_center[1], 'o', markerfacecolor=col,\n",
    "            markeredgecolor='k', markersize=14)\n",
    "    for x in X[class_members]:\n",
    "        pl.plot([cluster_center[0], x[0]], [cluster_center[1], x[1]], col)\n",
    "\n",
    "plt.title(\"Estimated number of clusters: %d\" % n_clusters_)\n",
    "plt.show()"
   ]
  },
  {
   "cell_type": "code",
   "execution_count": 29,
   "id": "a83cbb3c",
   "metadata": {},
   "outputs": [
    {
     "data": {
      "text/plain": [
       "Counter({2: 381, 1: 371, 0: 234})"
      ]
     },
     "execution_count": 29,
     "metadata": {},
     "output_type": "execute_result"
    }
   ],
   "source": [
    "from collections import Counter\n",
    "Counter(af.labels_)"
   ]
  },
  {
   "cell_type": "code",
   "execution_count": 30,
   "id": "30b722ba",
   "metadata": {},
   "outputs": [
    {
     "name": "stdout",
     "output_type": "stream",
     "text": [
      "list=  ['TUM_0', 'TUM_1', 'TUM_2']\n"
     ]
    }
   ],
   "source": [
    "# assign each image to the corresponding categories\n",
    "import shutil\n",
    "import glob\n",
    "\n",
    "save_path = 'E:/  /  /colon/downstream_dataset/'\n",
    "src_dir= ('E:/  /   /colon/imgTraining/train/TUM')\n",
    "\n",
    "name=os.path.basename(os.path.normpath(src_dir))\n",
    "\n",
    "list=[]\n",
    "for i in np.unique(labels):\n",
    "    if i not in list:\n",
    "        c= name+'_'+str(i)\n",
    "        list.append(c)\n",
    "\n",
    "#creating subfolders\n",
    "for items in list:\n",
    "    path = os.path.join(save_path, items)\n",
    "    os.mkdir(path)\n",
    "\n",
    "print('list= ', list)\n",
    "\n",
    "for img, j in zip(glob.iglob(os.path.join(src_dir, \"*.tif\")), labels):\n",
    "    shutil.copy(img, save_path+list[j-1])"
   ]
  },
  {
   "cell_type": "code",
   "execution_count": null,
   "id": "9e4b82a4",
   "metadata": {},
   "outputs": [],
   "source": []
  },
  {
   "cell_type": "code",
   "execution_count": null,
   "id": "ac90f235",
   "metadata": {},
   "outputs": [],
   "source": []
  }
 ],
 "metadata": {
  "kernelspec": {
   "display_name": "Python 3 (ipykernel)",
   "language": "python",
   "name": "python3"
  },
  "language_info": {
   "codemirror_mode": {
    "name": "ipython",
    "version": 3
   },
   "file_extension": ".py",
   "mimetype": "text/x-python",
   "name": "python",
   "nbconvert_exporter": "python",
   "pygments_lexer": "ipython3",
   "version": "3.9.7"
  }
 },
 "nbformat": 4,
 "nbformat_minor": 5
}
